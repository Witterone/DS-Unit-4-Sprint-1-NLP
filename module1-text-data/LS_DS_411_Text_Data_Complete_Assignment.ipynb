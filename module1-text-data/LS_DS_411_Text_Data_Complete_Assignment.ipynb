{
 "cells": [
  {
   "cell_type": "markdown",
   "metadata": {},
   "source": [
    "<img align=\"left\" src=\"https://lever-client-logos.s3.amazonaws.com/864372b1-534c-480e-acd5-9711f850815c-1524247202159.png\" width=200>\n",
    "<br></br>\n",
    "<br></br>\n",
    "\n",
    "# Natural Language Processing (NLP)\n",
    "## *Data Science Unit 4 Sprint 1 Assignment 1*\n",
    "\n",
    "Your goal in this assignment: find the attributes of the best & worst coffee shops in the dataset. The text is fairly raw: dates in the review, extra words in the `star_rating` column, etc. You'll probably want to clean that stuff up for a better analysis. \n",
    "\n",
    "Analyze the corpus of text using text visualizations of token frequency. Try cleaning the data as much as possible. Try the following techniques: \n",
    "- Lemmatization\n",
    "- Custom stopword removal\n",
    "\n",
    "Keep in mind the attributes of good tokens. Once you have a solid baseline, layer in the star rating in your visualization(s). Key part of this assignment - produce a write-up of the attributes of the best and worst coffee shops. Based on your analysis, what makes the best the best and the worst the worst. Use graphs and numbesr from your analysis to support your conclusions. There should be plenty of markdown cells! :coffee:"
   ]
  },
  {
   "cell_type": "code",
   "execution_count": 1,
   "metadata": {},
   "outputs": [
    {
     "data": {
      "image/jpeg": "[encoded data removed]",
      "text/html": [
       "\n",
       "        <iframe\n",
       "            width=\"400\"\n",
       "            height=\"300\"\n",
       "            src=\"https://www.youtube.com/embed/Jml7NVYm8cs\"\n",
       "            frameborder=\"0\"\n",
       "            allowfullscreen\n",
       "        ></iframe>\n",
       "        "
      ],
      "text/plain": [
       "<IPython.lib.display.YouTubeVideo at 0x21df87c2630>"
      ]
     },
     "execution_count": 1,
     "metadata": {},
     "output_type": "execute_result"
    }
   ],
   "source": [
    "from IPython.display import YouTubeVideo\n",
    "\n",
    "YouTubeVideo('Jml7NVYm8cs')"
   ]
  },
  {
   "cell_type": "code",
   "execution_count": 1,
   "metadata": {},
   "outputs": [
    {
     "data": {
      "text/plain": [
       "'C:\\\\Users\\\\Ronin\\\\Documents\\\\DS-Unit-4-Sprint-1-NLP\\\\module1-text-data'"
      ]
     },
     "execution_count": 1,
     "metadata": {},
     "output_type": "execute_result"
    }
   ],
   "source": [
    "%pwd"
   ]
  },
  {
   "cell_type": "code",
   "execution_count": 2,
   "metadata": {},
   "outputs": [
    {
     "data": {
      "text/html": [
       "<div>\n",
       "<style scoped>\n",
       "    .dataframe tbody tr th:only-of-type {\n",
       "        vertical-align: middle;\n",
       "    }\n",
       "\n",
       "    .dataframe tbody tr th {\n",
       "        vertical-align: top;\n",
       "    }\n",
       "\n",
       "    .dataframe thead th {\n",
       "        text-align: right;\n",
       "    }\n",
       "</style>\n",
       "<table border=\"1\" class=\"dataframe\">\n",
       "  <thead>\n",
       "    <tr style=\"text-align: right;\">\n",
       "      <th></th>\n",
       "      <th>coffee_shop_name</th>\n",
       "      <th>full_review_text</th>\n",
       "      <th>star_rating</th>\n",
       "    </tr>\n",
       "  </thead>\n",
       "  <tbody>\n",
       "    <tr>\n",
       "      <th>0</th>\n",
       "      <td>The Factory - Cafe With a Soul</td>\n",
       "      <td>11/25/2016 1 check-in Love love loved the atm...</td>\n",
       "      <td>5.0 star rating</td>\n",
       "    </tr>\n",
       "    <tr>\n",
       "      <th>1</th>\n",
       "      <td>The Factory - Cafe With a Soul</td>\n",
       "      <td>12/2/2016 Listed in Date Night: Austin, Ambia...</td>\n",
       "      <td>4.0 star rating</td>\n",
       "    </tr>\n",
       "    <tr>\n",
       "      <th>2</th>\n",
       "      <td>The Factory - Cafe With a Soul</td>\n",
       "      <td>11/30/2016 1 check-in Listed in Brunch Spots ...</td>\n",
       "      <td>4.0 star rating</td>\n",
       "    </tr>\n",
       "    <tr>\n",
       "      <th>3</th>\n",
       "      <td>The Factory - Cafe With a Soul</td>\n",
       "      <td>11/25/2016 Very cool decor! Good drinks Nice ...</td>\n",
       "      <td>2.0 star rating</td>\n",
       "    </tr>\n",
       "    <tr>\n",
       "      <th>4</th>\n",
       "      <td>The Factory - Cafe With a Soul</td>\n",
       "      <td>12/3/2016 1 check-in They are located within ...</td>\n",
       "      <td>4.0 star rating</td>\n",
       "    </tr>\n",
       "  </tbody>\n",
       "</table>\n",
       "</div>"
      ],
      "text/plain": [
       "                  coffee_shop_name  \\\n",
       "0  The Factory - Cafe With a Soul    \n",
       "1  The Factory - Cafe With a Soul    \n",
       "2  The Factory - Cafe With a Soul    \n",
       "3  The Factory - Cafe With a Soul    \n",
       "4  The Factory - Cafe With a Soul    \n",
       "\n",
       "                                    full_review_text        star_rating  \n",
       "0   11/25/2016 1 check-in Love love loved the atm...   5.0 star rating   \n",
       "1   12/2/2016 Listed in Date Night: Austin, Ambia...   4.0 star rating   \n",
       "2   11/30/2016 1 check-in Listed in Brunch Spots ...   4.0 star rating   \n",
       "3   11/25/2016 Very cool decor! Good drinks Nice ...   2.0 star rating   \n",
       "4   12/3/2016 1 check-in They are located within ...   4.0 star rating   "
      ]
     },
     "execution_count": 2,
     "metadata": {},
     "output_type": "execute_result"
    }
   ],
   "source": [
    "import pandas as pd\n",
    "\n",
    "url = \"https://raw.githubusercontent.com/LambdaSchool/DS-Unit-4-Sprint-1-NLP/main/module1-text-data/data/yelp_coffeeshop_review_data.csv\"\n",
    "\n",
    "shops = pd.read_csv(url)\n",
    "shops.head()"
   ]
  },
  {
   "cell_type": "code",
   "execution_count": 3,
   "metadata": {},
   "outputs": [
    {
     "data": {
      "text/plain": [
       "(7616, 3)"
      ]
     },
     "execution_count": 3,
     "metadata": {},
     "output_type": "execute_result"
    }
   ],
   "source": [
    "shops.shape"
   ]
  },
  {
   "cell_type": "code",
   "execution_count": 4,
   "metadata": {},
   "outputs": [],
   "source": [
    "# Base\n",
    "from collections import Counter\n",
    "import re\n",
    " \n",
    "import pandas as pd\n",
    "\n",
    "# Plotting\n",
    "import squarify\n",
    "import matplotlib.pyplot as plt\n",
    "import seaborn as sns\n",
    "\n",
    "# NLP Libraries\n",
    "import spacy\n",
    "from spacy.tokenizer import Tokenizer\n",
    "\n",
    "\n",
    "nlp = spacy.load(\"en_core_web_lg\")"
   ]
  },
  {
   "cell_type": "code",
   "execution_count": 5,
   "metadata": {},
   "outputs": [],
   "source": [
    "def count(docs):\n",
    "\n",
    "        word_counts = Counter()\n",
    "        appears_in = Counter()\n",
    "        \n",
    "        total_docs = len(docs)\n",
    "\n",
    "        for doc in docs:\n",
    "            word_counts.update(doc)\n",
    "            appears_in.update(set(doc))\n",
    "\n",
    "        temp = zip(word_counts.keys(), word_counts.values())\n",
    "        \n",
    "        wc = pd.DataFrame(temp, columns = ['word', 'count'])\n",
    "\n",
    "        wc['rank'] = wc['count'].rank(method='first', ascending=False)\n",
    "        total = wc['count'].sum()\n",
    "\n",
    "        wc['pct_total'] = wc['count'].apply(lambda x: x / total)\n",
    "        \n",
    "        wc = wc.sort_values(by='rank')\n",
    "        wc['cul_pct_total'] = wc['pct_total'].cumsum()\n",
    "\n",
    "        t2 = zip(appears_in.keys(), appears_in.values())\n",
    "        ac = pd.DataFrame(t2, columns=['word', 'appears_in'])\n",
    "        wc = ac.merge(wc, on='word')\n",
    "\n",
    "        wc['appears_in_pct'] = wc['appears_in'].apply(lambda x: x / total_docs)\n",
    "        \n",
    "        return wc.sort_values(by='rank')"
   ]
  },
  {
   "cell_type": "markdown",
   "metadata": {},
   "source": [
    "## How do we want to analyze these coffee shop tokens? \n",
    "\n",
    "- Overall Word / Token Count\n",
    "- View Counts by Rating \n",
    "- *Hint:* a 'bad' coffee shops has a rating betweeen 1 & 3 based on the distribution of ratings. A 'good' coffee shop is a 4 or 5. "
   ]
  },
  {
   "cell_type": "code",
   "execution_count": 6,
   "metadata": {},
   "outputs": [],
   "source": [
    "STOP_WORDS = nlp.Defaults.stop_words.union(['coffee', 'shop', 'check-in', ' ', 'got', '1', '-'])"
   ]
  },
  {
   "cell_type": "code",
   "execution_count": 29,
   "metadata": {},
   "outputs": [],
   "source": [
    "tokenizer = Tokenizer(nlp.vocab)\n",
    "\n",
    "tokens = []\n",
    "for doc in tokenizer.pipe(shops['full_review_text'], batch_size=500):\n",
    "    \n",
    "    doc_tokens = []\n",
    "    \n",
    "    for token in doc: \n",
    "        if ((token.text.lower() not in STOP_WORDS) and (token.text.isdigit() == False) and (token.text.isalpha() == True)):\n",
    "            doc_tokens.append(token.text.lower())\n",
    "   \n",
    "    tokens.append(doc_tokens)\n",
    "    \n",
    "shops['tokens'] = tokens"
   ]
  },
  {
   "cell_type": "code",
   "execution_count": 17,
   "metadata": {},
   "outputs": [],
   "source": [
    "shops['star_rating'] = (shops['star_rating']).str.strip('star rating')"
   ]
  },
  {
   "cell_type": "code",
   "execution_count": 21,
   "metadata": {},
   "outputs": [],
   "source": [
    "shops['star_rating'] = pd.to_numeric(shops['star_rating'])"
   ]
  },
  {
   "cell_type": "code",
   "execution_count": 40,
   "metadata": {},
   "outputs": [],
   "source": [
    "G_shops = shops[shops['star_rating']>=4]\n",
    "B_shops = shops[shops['star_rating']<=3]"
   ]
  },
  {
   "cell_type": "code",
   "execution_count": 41,
   "metadata": {},
   "outputs": [
    {
     "name": "stdout",
     "output_type": "stream",
     "text": [
      "(6140, 5) (1476, 5)\n"
     ]
    }
   ],
   "source": [
    "print(G_shops.shape, B_shops.shape)"
   ]
  },
  {
   "cell_type": "code",
   "execution_count": 32,
   "metadata": {},
   "outputs": [],
   "source": [
    "def get_lemmas(text):\n",
    "\n",
    "    lemmas = []\n",
    "    \n",
    "    doc = nlp(\" \".join(text))\n",
    "    \n",
    "    for token in doc: \n",
    "        if ((token.is_stop == False) and (token.is_punct == False) and (token.is_digit == False)) and (token.pos_ != 'PRON'):\n",
    "            lemmas.append(token.lemma_)\n",
    "    \n",
    "    return lemmas"
   ]
  },
  {
   "cell_type": "code",
   "execution_count": 36,
   "metadata": {},
   "outputs": [],
   "source": [
    "shops['lemmas'] = shops['tokens'].apply(get_lemmas)"
   ]
  },
  {
   "cell_type": "code",
   "execution_count": 37,
   "metadata": {},
   "outputs": [
    {
     "data": {
      "text/html": [
       "<div>\n",
       "<style scoped>\n",
       "    .dataframe tbody tr th:only-of-type {\n",
       "        vertical-align: middle;\n",
       "    }\n",
       "\n",
       "    .dataframe tbody tr th {\n",
       "        vertical-align: top;\n",
       "    }\n",
       "\n",
       "    .dataframe thead th {\n",
       "        text-align: right;\n",
       "    }\n",
       "</style>\n",
       "<table border=\"1\" class=\"dataframe\">\n",
       "  <thead>\n",
       "    <tr style=\"text-align: right;\">\n",
       "      <th></th>\n",
       "      <th>coffee_shop_name</th>\n",
       "      <th>full_review_text</th>\n",
       "      <th>star_rating</th>\n",
       "      <th>tokens</th>\n",
       "      <th>lemmas</th>\n",
       "    </tr>\n",
       "  </thead>\n",
       "  <tbody>\n",
       "    <tr>\n",
       "      <th>0</th>\n",
       "      <td>The Factory - Cafe With a Soul</td>\n",
       "      <td>11/25/2016 1 check-in Love love loved the atm...</td>\n",
       "      <td>5.0</td>\n",
       "      <td>[love, love, loved, corner, ordered, matcha, m...</td>\n",
       "      <td>[love, love, love, corner, order, matcha, muy,...</td>\n",
       "    </tr>\n",
       "    <tr>\n",
       "      <th>1</th>\n",
       "      <td>The Factory - Cafe With a Soul</td>\n",
       "      <td>12/2/2016 Listed in Date Night: Austin, Ambia...</td>\n",
       "      <td>4.0</td>\n",
       "      <td>[listed, date, ambiance, austin, love, definit...</td>\n",
       "      <td>[list, date, ambiance, austin, love, definitel...</td>\n",
       "    </tr>\n",
       "    <tr>\n",
       "      <th>2</th>\n",
       "      <td>The Factory - Cafe With a Soul</td>\n",
       "      <td>11/30/2016 1 check-in Listed in Brunch Spots ...</td>\n",
       "      <td>4.0</td>\n",
       "      <td>[listed, brunch, spots, loved, eclectic, homey...</td>\n",
       "      <td>[list, brunch, spot, love, eclectic, homey, pl...</td>\n",
       "    </tr>\n",
       "    <tr>\n",
       "      <th>3</th>\n",
       "      <td>The Factory - Cafe With a Soul</td>\n",
       "      <td>11/25/2016 Very cool decor! Good drinks Nice ...</td>\n",
       "      <td>2.0</td>\n",
       "      <td>[cool, good, drinks, nice, seating, extra, oun...</td>\n",
       "      <td>[cool, good, drink, nice, seating, extra, ounc...</td>\n",
       "    </tr>\n",
       "    <tr>\n",
       "      <th>4</th>\n",
       "      <td>The Factory - Cafe With a Soul</td>\n",
       "      <td>12/3/2016 1 check-in They are located within ...</td>\n",
       "      <td>4.0</td>\n",
       "      <td>[located, northcross, mall, shopping, center, ...</td>\n",
       "      <td>[locate, northcross, mall, shopping, center, f...</td>\n",
       "    </tr>\n",
       "  </tbody>\n",
       "</table>\n",
       "</div>"
      ],
      "text/plain": [
       "                  coffee_shop_name  \\\n",
       "0  The Factory - Cafe With a Soul    \n",
       "1  The Factory - Cafe With a Soul    \n",
       "2  The Factory - Cafe With a Soul    \n",
       "3  The Factory - Cafe With a Soul    \n",
       "4  The Factory - Cafe With a Soul    \n",
       "\n",
       "                                    full_review_text  star_rating  \\\n",
       "0   11/25/2016 1 check-in Love love loved the atm...          5.0   \n",
       "1   12/2/2016 Listed in Date Night: Austin, Ambia...          4.0   \n",
       "2   11/30/2016 1 check-in Listed in Brunch Spots ...          4.0   \n",
       "3   11/25/2016 Very cool decor! Good drinks Nice ...          2.0   \n",
       "4   12/3/2016 1 check-in They are located within ...          4.0   \n",
       "\n",
       "                                              tokens  \\\n",
       "0  [love, love, loved, corner, ordered, matcha, m...   \n",
       "1  [listed, date, ambiance, austin, love, definit...   \n",
       "2  [listed, brunch, spots, loved, eclectic, homey...   \n",
       "3  [cool, good, drinks, nice, seating, extra, oun...   \n",
       "4  [located, northcross, mall, shopping, center, ...   \n",
       "\n",
       "                                              lemmas  \n",
       "0  [love, love, love, corner, order, matcha, muy,...  \n",
       "1  [list, date, ambiance, austin, love, definitel...  \n",
       "2  [list, brunch, spot, love, eclectic, homey, pl...  \n",
       "3  [cool, good, drink, nice, seating, extra, ounc...  \n",
       "4  [locate, northcross, mall, shopping, center, f...  "
      ]
     },
     "execution_count": 37,
     "metadata": {},
     "output_type": "execute_result"
    }
   ],
   "source": [
    "shops.head()"
   ]
  },
  {
   "cell_type": "code",
   "execution_count": 38,
   "metadata": {},
   "outputs": [],
   "source": [
    "wc = count(shops['lemmas'])"
   ]
  },
  {
   "cell_type": "code",
   "execution_count": 39,
   "metadata": {},
   "outputs": [
    {
     "data": {
      "image/png": "[encoded data removed]",
      "text/plain": [
       "<Figure size 432x288 with 1 Axes>"
      ]
     },
     "metadata": {
      "needs_background": "light"
     },
     "output_type": "display_data"
    }
   ],
   "source": [
    "wc_top20 = wc[wc['rank'] <= 20]\n",
    "\n",
    "squarify.plot(sizes=wc_top20['pct_total'], label=wc_top20['word'], alpha=.8 )\n",
    "plt.axis('off')\n",
    "plt.show()"
   ]
  },
  {
   "cell_type": "code",
   "execution_count": 57,
   "metadata": {},
   "outputs": [],
   "source": [
    "Bwc_top20 = Bwc[Bwc['rank'] <= 20]\n",
    "Gwc_top20 = Gwc[Gwc['rank'] <= 20]"
   ]
  },
  {
   "cell_type": "code",
   "execution_count": 58,
   "metadata": {},
   "outputs": [
    {
     "data": {
      "image/png": "[encoded data removed]",
      "text/plain": [
       "<Figure size 432x288 with 1 Axes>"
      ]
     },
     "metadata": {
      "needs_background": "light"
     },
     "output_type": "display_data"
    }
   ],
   "source": [
    "squarify.plot(sizes=Bwc_top20['pct_total'], label=Bwc_top20['word'], alpha=.8 )\n",
    "plt.axis('off')\n",
    "plt.show()"
   ]
  },
  {
   "cell_type": "code",
   "execution_count": 59,
   "metadata": {},
   "outputs": [
    {
     "data": {
      "image/png": "[encoded data removed]",
      "text/plain": [
       "<Figure size 432x288 with 1 Axes>"
      ]
     },
     "metadata": {
      "needs_background": "light"
     },
     "output_type": "display_data"
    }
   ],
   "source": [
    "squarify.plot(sizes=Gwc_top20['pct_total'], label=Gwc_top20['word'], alpha=.8 )\n",
    "plt.axis('off')\n",
    "plt.show()"
   ]
  },
  {
   "cell_type": "markdown",
   "metadata": {},
   "source": [
    "## Can visualize the words with the greatest difference in counts between 'good' & 'bad'?\n",
    "\n",
    "Couple Notes: \n",
    "- Rel. freq. instead of absolute counts b/c of different numbers of reviews\n",
    "- Only look at the top 5-10 words with the greatest differences\n"
   ]
  },
  {
   "cell_type": "code",
   "execution_count": 42,
   "metadata": {},
   "outputs": [],
   "source": [
    "Gwc = count(G_shops['lemmas'])\n",
    "Bwc = count(B_shops['lemmas'])"
   ]
  },
  {
   "cell_type": "code",
   "execution_count": 56,
   "metadata": {},
   "outputs": [
    {
     "data": {
      "text/html": [
       "<div>\n",
       "<style scoped>\n",
       "    .dataframe tbody tr th:only-of-type {\n",
       "        vertical-align: middle;\n",
       "    }\n",
       "\n",
       "    .dataframe tbody tr th {\n",
       "        vertical-align: top;\n",
       "    }\n",
       "\n",
       "    .dataframe thead th {\n",
       "        text-align: right;\n",
       "    }\n",
       "</style>\n",
       "<table border=\"1\" class=\"dataframe\">\n",
       "  <thead>\n",
       "    <tr style=\"text-align: right;\">\n",
       "      <th></th>\n",
       "      <th>word</th>\n",
       "      <th>appears_in_x</th>\n",
       "      <th>count_x</th>\n",
       "      <th>rank_x</th>\n",
       "      <th>pct_total_x</th>\n",
       "      <th>cul_pct_total_x</th>\n",
       "      <th>appears_in_pct_x</th>\n",
       "      <th>diff</th>\n",
       "      <th>appears_in_y</th>\n",
       "      <th>count_y</th>\n",
       "      <th>rank_y</th>\n",
       "      <th>pct_total_y</th>\n",
       "      <th>cul_pct_total_y</th>\n",
       "      <th>appears_in_pct_y</th>\n",
       "      <th>dif</th>\n",
       "    </tr>\n",
       "  </thead>\n",
       "  <tbody>\n",
       "    <tr>\n",
       "      <th>2</th>\n",
       "      <td>great</td>\n",
       "      <td>2185</td>\n",
       "      <td>2919</td>\n",
       "      <td>3.0</td>\n",
       "      <td>0.014848</td>\n",
       "      <td>0.050206</td>\n",
       "      <td>0.355863</td>\n",
       "      <td>0.011723</td>\n",
       "      <td>267</td>\n",
       "      <td>352</td>\n",
       "      <td>11.0</td>\n",
       "      <td>0.006322</td>\n",
       "      <td>0.111392</td>\n",
       "      <td>0.180894</td>\n",
       "      <td>0.008526</td>\n",
       "    </tr>\n",
       "    <tr>\n",
       "      <th>4</th>\n",
       "      <td>love</td>\n",
       "      <td>1535</td>\n",
       "      <td>1977</td>\n",
       "      <td>5.0</td>\n",
       "      <td>0.010056</td>\n",
       "      <td>0.071743</td>\n",
       "      <td>0.250000</td>\n",
       "      <td>0.009356</td>\n",
       "      <td>202</td>\n",
       "      <td>244</td>\n",
       "      <td>25.0</td>\n",
       "      <td>0.004382</td>\n",
       "      <td>0.185103</td>\n",
       "      <td>0.136856</td>\n",
       "      <td>0.005674</td>\n",
       "    </tr>\n",
       "    <tr>\n",
       "      <th>10</th>\n",
       "      <td>order</td>\n",
       "      <td>914</td>\n",
       "      <td>1192</td>\n",
       "      <td>11.0</td>\n",
       "      <td>0.006063</td>\n",
       "      <td>0.114105</td>\n",
       "      <td>0.148860</td>\n",
       "      <td>0.002561</td>\n",
       "      <td>387</td>\n",
       "      <td>625</td>\n",
       "      <td>5.0</td>\n",
       "      <td>0.011225</td>\n",
       "      <td>0.068341</td>\n",
       "      <td>0.262195</td>\n",
       "      <td>0.005162</td>\n",
       "    </tr>\n",
       "    <tr>\n",
       "      <th>3</th>\n",
       "      <td>like</td>\n",
       "      <td>1594</td>\n",
       "      <td>2257</td>\n",
       "      <td>4.0</td>\n",
       "      <td>0.011481</td>\n",
       "      <td>0.061687</td>\n",
       "      <td>0.259609</td>\n",
       "      <td>0.009810</td>\n",
       "      <td>574</td>\n",
       "      <td>891</td>\n",
       "      <td>2.0</td>\n",
       "      <td>0.016003</td>\n",
       "      <td>0.033443</td>\n",
       "      <td>0.388889</td>\n",
       "      <td>0.004522</td>\n",
       "    </tr>\n",
       "    <tr>\n",
       "      <th>120</th>\n",
       "      <td>ask</td>\n",
       "      <td>290</td>\n",
       "      <td>318</td>\n",
       "      <td>121.0</td>\n",
       "      <td>0.001618</td>\n",
       "      <td>0.421954</td>\n",
       "      <td>0.047231</td>\n",
       "      <td>0.001025</td>\n",
       "      <td>212</td>\n",
       "      <td>309</td>\n",
       "      <td>19.0</td>\n",
       "      <td>0.005550</td>\n",
       "      <td>0.157623</td>\n",
       "      <td>0.143631</td>\n",
       "      <td>0.003932</td>\n",
       "    </tr>\n",
       "    <tr>\n",
       "      <th>1</th>\n",
       "      <td>good</td>\n",
       "      <td>2318</td>\n",
       "      <td>3167</td>\n",
       "      <td>2.0</td>\n",
       "      <td>0.016110</td>\n",
       "      <td>0.035358</td>\n",
       "      <td>0.377524</td>\n",
       "      <td>0.015715</td>\n",
       "      <td>490</td>\n",
       "      <td>683</td>\n",
       "      <td>3.0</td>\n",
       "      <td>0.012267</td>\n",
       "      <td>0.045710</td>\n",
       "      <td>0.331978</td>\n",
       "      <td>0.003842</td>\n",
       "    </tr>\n",
       "    <tr>\n",
       "      <th>161</th>\n",
       "      <td>customer</td>\n",
       "      <td>212</td>\n",
       "      <td>235</td>\n",
       "      <td>162.0</td>\n",
       "      <td>0.001195</td>\n",
       "      <td>0.477751</td>\n",
       "      <td>0.034528</td>\n",
       "      <td>0.001177</td>\n",
       "      <td>156</td>\n",
       "      <td>229</td>\n",
       "      <td>27.0</td>\n",
       "      <td>0.004113</td>\n",
       "      <td>0.193401</td>\n",
       "      <td>0.105691</td>\n",
       "      <td>0.002918</td>\n",
       "    </tr>\n",
       "    <tr>\n",
       "      <th>14</th>\n",
       "      <td>friendly</td>\n",
       "      <td>1002</td>\n",
       "      <td>1032</td>\n",
       "      <td>15.0</td>\n",
       "      <td>0.005250</td>\n",
       "      <td>0.136411</td>\n",
       "      <td>0.163192</td>\n",
       "      <td>0.005160</td>\n",
       "      <td>122</td>\n",
       "      <td>134</td>\n",
       "      <td>66.0</td>\n",
       "      <td>0.002407</td>\n",
       "      <td>0.312463</td>\n",
       "      <td>0.082656</td>\n",
       "      <td>0.002843</td>\n",
       "    </tr>\n",
       "    <tr>\n",
       "      <th>35</th>\n",
       "      <td>delicious</td>\n",
       "      <td>629</td>\n",
       "      <td>664</td>\n",
       "      <td>36.0</td>\n",
       "      <td>0.003378</td>\n",
       "      <td>0.224859</td>\n",
       "      <td>0.102443</td>\n",
       "      <td>0.003162</td>\n",
       "      <td>34</td>\n",
       "      <td>34</td>\n",
       "      <td>324.0</td>\n",
       "      <td>0.000611</td>\n",
       "      <td>0.608761</td>\n",
       "      <td>0.023035</td>\n",
       "      <td>0.002767</td>\n",
       "    </tr>\n",
       "    <tr>\n",
       "      <th>155</th>\n",
       "      <td>say</td>\n",
       "      <td>215</td>\n",
       "      <td>239</td>\n",
       "      <td>156.0</td>\n",
       "      <td>0.001216</td>\n",
       "      <td>0.470543</td>\n",
       "      <td>0.035016</td>\n",
       "      <td>0.001090</td>\n",
       "      <td>150</td>\n",
       "      <td>215</td>\n",
       "      <td>30.0</td>\n",
       "      <td>0.003862</td>\n",
       "      <td>0.205004</td>\n",
       "      <td>0.101626</td>\n",
       "      <td>0.002646</td>\n",
       "    </tr>\n",
       "  </tbody>\n",
       "</table>\n",
       "</div>"
      ],
      "text/plain": [
       "          word  appears_in_x  count_x  rank_x  pct_total_x  cul_pct_total_x  \\\n",
       "2        great          2185     2919     3.0     0.014848         0.050206   \n",
       "4         love          1535     1977     5.0     0.010056         0.071743   \n",
       "10       order           914     1192    11.0     0.006063         0.114105   \n",
       "3         like          1594     2257     4.0     0.011481         0.061687   \n",
       "120        ask           290      318   121.0     0.001618         0.421954   \n",
       "1         good          2318     3167     2.0     0.016110         0.035358   \n",
       "161   customer           212      235   162.0     0.001195         0.477751   \n",
       "14    friendly          1002     1032    15.0     0.005250         0.136411   \n",
       "35   delicious           629      664    36.0     0.003378         0.224859   \n",
       "155        say           215      239   156.0     0.001216         0.470543   \n",
       "\n",
       "     appears_in_pct_x      diff  appears_in_y  count_y  rank_y  pct_total_y  \\\n",
       "2            0.355863  0.011723           267      352    11.0     0.006322   \n",
       "4            0.250000  0.009356           202      244    25.0     0.004382   \n",
       "10           0.148860  0.002561           387      625     5.0     0.011225   \n",
       "3            0.259609  0.009810           574      891     2.0     0.016003   \n",
       "120          0.047231  0.001025           212      309    19.0     0.005550   \n",
       "1            0.377524  0.015715           490      683     3.0     0.012267   \n",
       "161          0.034528  0.001177           156      229    27.0     0.004113   \n",
       "14           0.163192  0.005160           122      134    66.0     0.002407   \n",
       "35           0.102443  0.003162            34       34   324.0     0.000611   \n",
       "155          0.035016  0.001090           150      215    30.0     0.003862   \n",
       "\n",
       "     cul_pct_total_y  appears_in_pct_y       dif  \n",
       "2           0.111392          0.180894  0.008526  \n",
       "4           0.185103          0.136856  0.005674  \n",
       "10          0.068341          0.262195  0.005162  \n",
       "3           0.033443          0.388889  0.004522  \n",
       "120         0.157623          0.143631  0.003932  \n",
       "1           0.045710          0.331978  0.003842  \n",
       "161         0.193401          0.105691  0.002918  \n",
       "14          0.312463          0.082656  0.002843  \n",
       "35          0.608761          0.023035  0.002767  \n",
       "155         0.205004          0.101626  0.002646  "
      ]
     },
     "execution_count": 56,
     "metadata": {},
     "output_type": "execute_result"
    }
   ],
   "source": [
    "amalgum = pd.merge(Gwc, Bwc, how= 'inner', on= 'word')\n",
    "amalgum['dif'] = abs(amalgum['pct_total_x'] - amalgum['pct_total_y'])\n",
    "amalgum.sort_values('dif',ascending=False).head(10)"
   ]
  },
  {
   "cell_type": "markdown",
   "metadata": {
    "colab_type": "text",
    "id": "1dCb1q8XphcP",
    "toc-hr-collapsed": true
   },
   "source": [
    "## Stretch Goals\n",
    "\n",
    "* Analyze another corpus of documents - such as Indeed.com job listings ;).\n",
    "* Play with the Spacy API to\n",
    " - Extract Named Entities\n",
    " - Extracting 'noun chunks'\n",
    " - Attempt Document Classification with just Spacy\n",
    " - *Note:* This [course](https://course.spacy.io/) will be of interesting in helping you with these stretch goals. \n",
    "* Try to build a plotly dash app with your text data \n",
    "\n"
   ]
  }
 ],
 "metadata": {
  "colab": {
   "collapsed_sections": [],
   "name": "LS_DS_421_Text_Data_Assignment.ipynb",
   "provenance": [],
   "version": "0.3.2"
  },
  "kernelspec": {
   "display_name": "U4-S1-NLP (Python3)",
   "language": "python",
   "name": "u4-s1-nlp"
  },
  "language_info": {
   "codemirror_mode": {
    "name": "ipython",
    "version": 3
   },
   "file_extension": ".py",
   "mimetype": "text/x-python",
   "name": "python",
   "nbconvert_exporter": "python",
   "pygments_lexer": "ipython3",
   "version": "3.7.0"
  },
  "toc-autonumbering": false
 },
 "nbformat": 4,
 "nbformat_minor": 4
}
